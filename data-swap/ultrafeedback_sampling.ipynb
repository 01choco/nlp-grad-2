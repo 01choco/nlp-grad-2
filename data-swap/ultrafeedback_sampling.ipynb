{
 "cells": [
  {
   "cell_type": "code",
   "execution_count": null,
   "metadata": {
    "colab": {
     "base_uri": "https://localhost:8080/"
    },
    "executionInfo": {
     "elapsed": 25530,
     "status": "ok",
     "timestamp": 1748583652862,
     "user": {
      "displayName": "이서연",
      "userId": "12163803244287082530"
     },
     "user_tz": -540
    },
    "id": "NOkJJ3kVxT7U",
    "outputId": "971912fe-eb8b-44ad-f66f-75ee5eacc117"
   },
   "outputs": [
    {
     "name": "stdout",
     "output_type": "stream",
     "text": [
      "Mounted at /content/drive\n"
     ]
    }
   ],
   "source": [
    "from google.colab import drive\n",
    "drive.mount('/content/drive')"
   ]
  },
  {
   "cell_type": "code",
   "execution_count": 1,
   "metadata": {
    "colab": {
     "base_uri": "https://localhost:8080/"
    },
    "executionInfo": {
     "elapsed": 5441,
     "status": "ok",
     "timestamp": 1748065021804,
     "user": {
      "displayName": "이서연",
      "userId": "12163803244287082530"
     },
     "user_tz": -540
    },
    "id": "XtjA4pFSxhDG",
    "outputId": "af5f8404-9071-46fe-9d82-cffd2fbe2a7e"
   },
   "outputs": [
    {
     "name": "stdout",
     "output_type": "stream",
     "text": [
      "parsing error ultrafeedback_binarized_llamafactory.jsonl\u0000\u0000\u0000\u0000\u0000\u0000\u0000\u0000\n"
     ]
    },
    {
     "name": "stdout",
     "output_type": "stream",
     "text": [
      "parsing error \u0000\u0000\u0000\u0000\u0000\u0000\u0000\u0000\u0000\u0000\u0000\u0000\u0000\u0000\u0000\u0000\u0000\u0000\u0000\u0000\u0000\u0000\u0000\u0000\u0000\u0000\u0000\u0000\u0000\u0000\u0000\u0000\u0000\u0000\u0000\u0000\u0000\u0000\u0000\u0000\u0000\u0000\u0000\u0000\u0000\u0000\u0000\u0000\u0000\u0000\n",
      "✅ total jsonl line: 64247\n",
      "🎯 10000 samples saved: output_path.jsonl\n"
     ]
    }
   ],
   "source": [
    "import json\n",
    "import random\n",
    "import gzip\n",
    "\n",
    "# path setting\n",
    "input_path = \"./ultrafeedback_binarized_llamafactory.tar.gz\"\n",
    "output_path = \"output_path.jsonl\"\n",
    "\n",
    "open_fn = gzip.open if input_path.endswith(\".gz\") else open\n",
    "\n",
    "data = []\n",
    "with open_fn(input_path, \"rt\", encoding=\"utf-8\") as f:\n",
    "    for line in f:\n",
    "        line = line.strip()\n",
    "        if not line:\n",
    "            continue \n",
    "        try:\n",
    "            data.append(json.loads(line))\n",
    "        except json.JSONDecodeError:\n",
    "            print(\"parsing error\", line[:50])\n",
    "            continue\n",
    "\n",
    "print(f\"✅ total jsonl line: {len(data)}\")\n",
    "\n",
    "sample_size = 10000\n",
    "sampled_data = random.sample(data, sample_size)\n",
    "\n",
    "with open(output_path, \"w\", encoding=\"utf-8\") as f:\n",
    "    for item in sampled_data:\n",
    "        f.write(json.dumps(item, ensure_ascii=False) + \"\\n\")\n",
    "\n",
    "print(f\"🎯 {sample_size} samples saved: {output_path}\")"
   ]
  },
  {
   "cell_type": "code",
   "execution_count": null,
   "metadata": {
    "colab": {
     "base_uri": "https://localhost:8080/",
     "height": 17
    },
    "executionInfo": {
     "elapsed": 125,
     "status": "ok",
     "timestamp": 1748065049954,
     "user": {
      "displayName": "이서연",
      "userId": "12163803244287082530"
     },
     "user_tz": -540
    },
    "id": "M0Ertod0y9Bd",
    "outputId": "3a4e30df-3e71-4219-a10c-2cd90aae0a43"
   },
   "outputs": [
    {
     "data": {
      "application/javascript": "\n    async function download(id, filename, size) {\n      if (!google.colab.kernel.accessAllowed) {\n        return;\n      }\n      const div = document.createElement('div');\n      const label = document.createElement('label');\n      label.textContent = `Downloading \"${filename}\": `;\n      div.appendChild(label);\n      const progress = document.createElement('progress');\n      progress.max = size;\n      div.appendChild(progress);\n      document.body.appendChild(div);\n\n      const buffers = [];\n      let downloaded = 0;\n\n      const channel = await google.colab.kernel.comms.open(id);\n      // Send a message to notify the kernel that we're ready.\n      channel.send({})\n\n      for await (const message of channel.messages) {\n        // Send a message to notify the kernel that we're ready.\n        channel.send({})\n        if (message.buffers) {\n          for (const buffer of message.buffers) {\n            buffers.push(buffer);\n            downloaded += buffer.byteLength;\n            progress.value = downloaded;\n          }\n        }\n      }\n      const blob = new Blob(buffers, {type: 'application/binary'});\n      const a = document.createElement('a');\n      a.href = window.URL.createObjectURL(blob);\n      a.download = filename;\n      div.appendChild(a);\n      a.click();\n      div.remove();\n    }\n  ",
      "text/plain": [
       "<IPython.core.display.Javascript object>"
      ]
     },
     "metadata": {},
     "output_type": "display_data"
    },
    {
     "data": {
      "application/javascript": "download(\"download_03a246b1-301d-469b-998c-caa2d139faf4\", \"ultrafeedback_sample_10000.jsonl\", 30794756)",
      "text/plain": [
       "<IPython.core.display.Javascript object>"
      ]
     },
     "metadata": {},
     "output_type": "display_data"
    }
   ],
   "source": [
    "from google.colab import files\n",
    "files.download(output_path)"
   ]
  },
  {
   "cell_type": "code",
   "execution_count": 2,
   "metadata": {
    "colab": {
     "base_uri": "https://localhost:8080/"
    },
    "executionInfo": {
     "elapsed": 1363,
     "status": "ok",
     "timestamp": 1748065185804,
     "user": {
      "displayName": "이서연",
      "userId": "12163803244287082530"
     },
     "user_tz": -540
    },
    "id": "Sto9UPtlzd4I",
    "outputId": "8cc5310c-4eab-413d-9f39-3b9529bbc027"
   },
   "outputs": [
    {
     "name": "stdout",
     "output_type": "stream",
     "text": [
      "🔄 2000개 스왑 완료! 저장 경로: /data/dataset_cartography/data/ultrafeedback_sample_swapped_5000.jsonl\n"
     ]
    }
   ],
   "source": [
    "import random\n",
    "import json\n",
    "\n",
    "# 1. 기존 샘플링된 10,000개 로드 (이미 메모리에 있다면 이 단계 생략 가능)\n",
    "input_path = \"/data/dataset_cartography/data/ultrafeedback_sample_10000.jsonl\"\n",
    "output_path = \"/data/dataset_cartography/data/ultrafeedback_sample_swapped_5000.jsonl\"\n",
    "\n",
    "with open(input_path, \"r\", encoding=\"utf-8\") as f:\n",
    "    data = [json.loads(line) for line in f]\n",
    "\n",
    "# 2. 2000개 무작위 선택 후 chosen <-> rejected 스왑\n",
    "swap_indices = set(random.sample(range(len(data)), 5000))\n",
    "\n",
    "for idx in swap_indices:\n",
    "    data[idx][\"chosen\"], data[idx][\"rejected\"] = data[idx][\"rejected\"], data[idx][\"chosen\"]\n",
    "\n",
    "# 3. 저장\n",
    "with open(output_path, \"w\", encoding=\"utf-8\") as f:\n",
    "    for item in data:\n",
    "        f.write(json.dumps(item, ensure_ascii=False) + \"\\n\")\n",
    "\n",
    "print(f\"🔄 2000개 스왑 완료! 저장 경로: {output_path}\")"
   ]
  },
  {
   "cell_type": "code",
   "execution_count": null,
   "metadata": {
    "colab": {
     "base_uri": "https://localhost:8080/",
     "height": 17
    },
    "executionInfo": {
     "elapsed": 89,
     "status": "ok",
     "timestamp": 1748065297925,
     "user": {
      "displayName": "이서연",
      "userId": "12163803244287082530"
     },
     "user_tz": -540
    },
    "id": "I5ZOBBM2z5NI",
    "outputId": "0109cf78-a706-4d58-c337-494fd8199f4a"
   },
   "outputs": [
    {
     "data": {
      "application/javascript": "\n    async function download(id, filename, size) {\n      if (!google.colab.kernel.accessAllowed) {\n        return;\n      }\n      const div = document.createElement('div');\n      const label = document.createElement('label');\n      label.textContent = `Downloading \"${filename}\": `;\n      div.appendChild(label);\n      const progress = document.createElement('progress');\n      progress.max = size;\n      div.appendChild(progress);\n      document.body.appendChild(div);\n\n      const buffers = [];\n      let downloaded = 0;\n\n      const channel = await google.colab.kernel.comms.open(id);\n      // Send a message to notify the kernel that we're ready.\n      channel.send({})\n\n      for await (const message of channel.messages) {\n        // Send a message to notify the kernel that we're ready.\n        channel.send({})\n        if (message.buffers) {\n          for (const buffer of message.buffers) {\n            buffers.push(buffer);\n            downloaded += buffer.byteLength;\n            progress.value = downloaded;\n          }\n        }\n      }\n      const blob = new Blob(buffers, {type: 'application/binary'});\n      const a = document.createElement('a');\n      a.href = window.URL.createObjectURL(blob);\n      a.download = filename;\n      div.appendChild(a);\n      a.click();\n      div.remove();\n    }\n  ",
      "text/plain": [
       "<IPython.core.display.Javascript object>"
      ]
     },
     "metadata": {},
     "output_type": "display_data"
    },
    {
     "data": {
      "application/javascript": "download(\"download_fbd7b3c5-6a69-40bf-8fa3-24dfd3b428a6\", \"ultrafeedback_sample_swapped_2000.jsonl\", 30794756)",
      "text/plain": [
       "<IPython.core.display.Javascript object>"
      ]
     },
     "metadata": {},
     "output_type": "display_data"
    }
   ],
   "source": [
    "from google.colab import files\n",
    "\n",
    "output_path = \"/content/drive/MyDrive/ultrafeedback/ultrafeedback_sample_swapped_2000.jsonl\"\n",
    "\n",
    "# 다운로드 요청\n",
    "files.download(output_path)"
   ]
  },
  {
   "cell_type": "code",
   "execution_count": null,
   "metadata": {
    "id": "Z9R0c3UG0iQr"
   },
   "outputs": [],
   "source": [
    "!mv \"/content/drive/MyDrive/Colab Notebooks/ultrafeedback_sampling.ipynb\" \"/content/drive/MyDrive/ultrafeedback/ultrafeedback_sampling.ipynb\""
   ]
  },
  {
   "cell_type": "code",
   "execution_count": null,
   "metadata": {
    "colab": {
     "base_uri": "https://localhost:8080/"
    },
    "executionInfo": {
     "elapsed": 882,
     "status": "ok",
     "timestamp": 1748066701055,
     "user": {
      "displayName": "이서연",
      "userId": "12163803244287082530"
     },
     "user_tz": -540
    },
    "id": "sSeW-mBs5N2q",
    "outputId": "17a7bd75-6d53-402b-d8a1-506a5d2c65e8"
   },
   "outputs": [
    {
     "name": "stdout",
     "output_type": "stream",
     "text": [
      "✅ 스왑된 2000개 샘플 저장 완료: /content/drive/MyDrive/ultrafeedback/ultrafeedback_swapped_only_2000.jsonl\n",
      "✅ 스왑되지 않은 8000개 샘플 저장 완료: /content/drive/MyDrive/ultrafeedback/ultrafeedback_not_swapped_8000.jsonl\n"
     ]
    }
   ],
   "source": [
    "# 스왑된 항목 저장 (2000개)\n",
    "swapped_only_path = \"/content/drive/MyDrive/ultrafeedback/ultrafeedback_swapped_only_2000.jsonl\"\n",
    "swapped_data = [data[idx] for idx in swap_indices]\n",
    "\n",
    "with open(swapped_only_path, \"w\", encoding=\"utf-8\") as f:\n",
    "    for item in swapped_data:\n",
    "        f.write(json.dumps(item, ensure_ascii=False) + \"\\n\")\n",
    "\n",
    "print(f\"✅ 스왑된 2000개 샘플 저장 완료: {swapped_only_path}\")\n",
    "\n",
    "# 스왑되지 않은 항목 저장 (8000개)\n",
    "not_swapped_path = \"/content/drive/MyDrive/ultrafeedback/ultrafeedback_not_swapped_8000.jsonl\"\n",
    "not_swapped_indices = set(range(len(data))) - swap_indices\n",
    "not_swapped_data = [data[idx] for idx in not_swapped_indices]\n",
    "\n",
    "with open(not_swapped_path, \"w\", encoding=\"utf-8\") as f:\n",
    "    for item in not_swapped_data:\n",
    "        f.write(json.dumps(item, ensure_ascii=False) + \"\\n\")\n",
    "\n",
    "print(f\"✅ 스왑되지 않은 8000개 샘플 저장 완료: {not_swapped_path}\")"
   ]
  },
  {
   "cell_type": "code",
   "execution_count": null,
   "metadata": {
    "colab": {
     "base_uri": "https://localhost:8080/",
     "height": 17
    },
    "executionInfo": {
     "elapsed": 271,
     "status": "ok",
     "timestamp": 1748066734020,
     "user": {
      "displayName": "이서연",
      "userId": "12163803244287082530"
     },
     "user_tz": -540
    },
    "id": "c8KWqlHP5WpK",
    "outputId": "816158e9-72f6-4ad2-c429-968bb5d2c3e3"
   },
   "outputs": [
    {
     "data": {
      "application/javascript": "\n    async function download(id, filename, size) {\n      if (!google.colab.kernel.accessAllowed) {\n        return;\n      }\n      const div = document.createElement('div');\n      const label = document.createElement('label');\n      label.textContent = `Downloading \"${filename}\": `;\n      div.appendChild(label);\n      const progress = document.createElement('progress');\n      progress.max = size;\n      div.appendChild(progress);\n      document.body.appendChild(div);\n\n      const buffers = [];\n      let downloaded = 0;\n\n      const channel = await google.colab.kernel.comms.open(id);\n      // Send a message to notify the kernel that we're ready.\n      channel.send({})\n\n      for await (const message of channel.messages) {\n        // Send a message to notify the kernel that we're ready.\n        channel.send({})\n        if (message.buffers) {\n          for (const buffer of message.buffers) {\n            buffers.push(buffer);\n            downloaded += buffer.byteLength;\n            progress.value = downloaded;\n          }\n        }\n      }\n      const blob = new Blob(buffers, {type: 'application/binary'});\n      const a = document.createElement('a');\n      a.href = window.URL.createObjectURL(blob);\n      a.download = filename;\n      div.appendChild(a);\n      a.click();\n      div.remove();\n    }\n  ",
      "text/plain": [
       "<IPython.core.display.Javascript object>"
      ]
     },
     "metadata": {},
     "output_type": "display_data"
    },
    {
     "data": {
      "application/javascript": "download(\"download_757892a9-31d2-4ea9-9f0f-95218c3e79a2\", \"swapped_only_2000.jsonl\", 6256477)",
      "text/plain": [
       "<IPython.core.display.Javascript object>"
      ]
     },
     "metadata": {},
     "output_type": "display_data"
    },
    {
     "data": {
      "application/javascript": "\n    async function download(id, filename, size) {\n      if (!google.colab.kernel.accessAllowed) {\n        return;\n      }\n      const div = document.createElement('div');\n      const label = document.createElement('label');\n      label.textContent = `Downloading \"${filename}\": `;\n      div.appendChild(label);\n      const progress = document.createElement('progress');\n      progress.max = size;\n      div.appendChild(progress);\n      document.body.appendChild(div);\n\n      const buffers = [];\n      let downloaded = 0;\n\n      const channel = await google.colab.kernel.comms.open(id);\n      // Send a message to notify the kernel that we're ready.\n      channel.send({})\n\n      for await (const message of channel.messages) {\n        // Send a message to notify the kernel that we're ready.\n        channel.send({})\n        if (message.buffers) {\n          for (const buffer of message.buffers) {\n            buffers.push(buffer);\n            downloaded += buffer.byteLength;\n            progress.value = downloaded;\n          }\n        }\n      }\n      const blob = new Blob(buffers, {type: 'application/binary'});\n      const a = document.createElement('a');\n      a.href = window.URL.createObjectURL(blob);\n      a.download = filename;\n      div.appendChild(a);\n      a.click();\n      div.remove();\n    }\n  ",
      "text/plain": [
       "<IPython.core.display.Javascript object>"
      ]
     },
     "metadata": {},
     "output_type": "display_data"
    },
    {
     "data": {
      "application/javascript": "download(\"download_3dc40c3e-0fa9-4972-99ab-5f5207b25f45\", \"not_swapped_8000.jsonl\", 24538279)",
      "text/plain": [
       "<IPython.core.display.Javascript object>"
      ]
     },
     "metadata": {},
     "output_type": "display_data"
    }
   ],
   "source": [
    "from google.colab import files\n",
    "\n",
    "# 파일 경로\n",
    "swapped_only_path = \"/content/drive/MyDrive/ultrafeedback/ultrafeedback_swapped_only_2000.jsonl\"\n",
    "not_swapped_path = \"/content/drive/MyDrive/ultrafeedback/ultrafeedback_not_swapped_8000.jsonl\"\n",
    "\n",
    "# 먼저 Colab 작업 디렉토리로 복사 (Google Drive에서 바로 다운로드는 불안정할 수 있음)\n",
    "!cp \"{swapped_only_path}\" /content/swapped_only_2000.jsonl\n",
    "!cp \"{not_swapped_path}\" /content/not_swapped_8000.jsonl\n",
    "\n",
    "# 다운로드\n",
    "files.download(\"/content/swapped_only_2000.jsonl\")\n",
    "files.download(\"/content/not_swapped_8000.jsonl\")"
   ]
  },
  {
   "cell_type": "code",
   "execution_count": null,
   "metadata": {
    "colab": {
     "base_uri": "https://localhost:8080/"
    },
    "executionInfo": {
     "elapsed": 2336,
     "status": "ok",
     "timestamp": 1748583750399,
     "user": {
      "displayName": "이서연",
      "userId": "12163803244287082530"
     },
     "user_tz": -540
    },
    "id": "p0Rl3EcBtlD5",
    "outputId": "abc36f22-99e5-4b20-dbef-ca94d21f5e6c"
   },
   "outputs": [
    {
     "name": "stdout",
     "output_type": "stream",
     "text": [
      "🔄 500개 스왑 완료! 저장 경로: /content/drive/MyDrive/ultrafeedback/ultrafeedback_sample_swapped_500.jsonl\n"
     ]
    }
   ],
   "source": [
    "import random\n",
    "import json\n",
    "\n",
    "# 1. 기존 샘플링된 10,000개 로드 (이미 메모리에 있다면 이 단계 생략 가능)\n",
    "input_path = \"/content/drive/MyDrive/ultrafeedback/ultrafeedback_sample_10000.jsonl\"\n",
    "output_path = \"/content/drive/MyDrive/ultrafeedback/ultrafeedback_sample_swapped_500.jsonl\"\n",
    "\n",
    "with open(input_path, \"r\", encoding=\"utf-8\") as f:\n",
    "    data = [json.loads(line) for line in f]\n",
    "\n",
    "# 2. 2000개 무작위 선택 후 chosen <-> rejected 스왑\n",
    "swap_indices = set(random.sample(range(len(data)), 500))\n",
    "\n",
    "for idx in swap_indices:\n",
    "    data[idx][\"chosen\"], data[idx][\"rejected\"] = data[idx][\"rejected\"], data[idx][\"chosen\"]\n",
    "\n",
    "# 3. 저장\n",
    "with open(output_path, \"w\", encoding=\"utf-8\") as f:\n",
    "    for item in data:\n",
    "        f.write(json.dumps(item, ensure_ascii=False) + \"\\n\")\n",
    "\n",
    "print(f\"🔄 500개 스왑 완료! 저장 경로: {output_path}\")"
   ]
  },
  {
   "cell_type": "code",
   "execution_count": null,
   "metadata": {
    "colab": {
     "base_uri": "https://localhost:8080/",
     "height": 17
    },
    "executionInfo": {
     "elapsed": 48,
     "status": "ok",
     "timestamp": 1748583798634,
     "user": {
      "displayName": "이서연",
      "userId": "12163803244287082530"
     },
     "user_tz": -540
    },
    "id": "WnAxdrJCt0DM",
    "outputId": "f663d482-4d8b-4dab-c81b-5bf02675c79c"
   },
   "outputs": [
    {
     "data": {
      "application/javascript": "\n    async function download(id, filename, size) {\n      if (!google.colab.kernel.accessAllowed) {\n        return;\n      }\n      const div = document.createElement('div');\n      const label = document.createElement('label');\n      label.textContent = `Downloading \"${filename}\": `;\n      div.appendChild(label);\n      const progress = document.createElement('progress');\n      progress.max = size;\n      div.appendChild(progress);\n      document.body.appendChild(div);\n\n      const buffers = [];\n      let downloaded = 0;\n\n      const channel = await google.colab.kernel.comms.open(id);\n      // Send a message to notify the kernel that we're ready.\n      channel.send({})\n\n      for await (const message of channel.messages) {\n        // Send a message to notify the kernel that we're ready.\n        channel.send({})\n        if (message.buffers) {\n          for (const buffer of message.buffers) {\n            buffers.push(buffer);\n            downloaded += buffer.byteLength;\n            progress.value = downloaded;\n          }\n        }\n      }\n      const blob = new Blob(buffers, {type: 'application/binary'});\n      const a = document.createElement('a');\n      a.href = window.URL.createObjectURL(blob);\n      a.download = filename;\n      div.appendChild(a);\n      a.click();\n      div.remove();\n    }\n  ",
      "text/plain": [
       "<IPython.core.display.Javascript object>"
      ]
     },
     "metadata": {},
     "output_type": "display_data"
    },
    {
     "data": {
      "application/javascript": "download(\"download_2027a040-0702-47b9-a4cf-8779d21c17a8\", \"ultrafeedback_sample_swapped_500.jsonl\", 30794756)",
      "text/plain": [
       "<IPython.core.display.Javascript object>"
      ]
     },
     "metadata": {},
     "output_type": "display_data"
    }
   ],
   "source": [
    "from google.colab import files\n",
    "\n",
    "output_path = \"/content/drive/MyDrive/ultrafeedback/ultrafeedback_sample_swapped_500.jsonl\"\n",
    "\n",
    "# 다운로드 요청\n",
    "files.download(output_path)"
   ]
  },
  {
   "cell_type": "code",
   "execution_count": 4,
   "metadata": {
    "colab": {
     "base_uri": "https://localhost:8080/"
    },
    "executionInfo": {
     "elapsed": 808,
     "status": "ok",
     "timestamp": 1748584045415,
     "user": {
      "displayName": "이서연",
      "userId": "12163803244287082530"
     },
     "user_tz": -540
    },
    "id": "47CLy5_xusxR",
    "outputId": "99957e3b-f909-42b1-d3fc-ca838dfd7be6"
   },
   "outputs": [
    {
     "name": "stdout",
     "output_type": "stream",
     "text": [
      "✅ 스왑된 500개 샘플 저장 완료: /content/drive/MyDrive/ultrafeedback/ultrafeedback_swapped_only_500.jsonl\n",
      "✅ 스왑되지 않은 9500개 샘플 저장 완료: /content/drive/MyDrive/ultrafeedback/ultrafeedback_not_swapped_9500.jsonl\n"
     ]
    }
   ],
   "source": [
    "# 스왑된 항목 저장 (2000개)\n",
    "swapped_only_path = \"/content/drive/MyDrive/ultrafeedback/ultrafeedback_swapped_only_500.jsonl\"\n",
    "swapped_data = [data[idx] for idx in swap_indices]\n",
    "\n",
    "with open(swapped_only_path, \"w\", encoding=\"utf-8\") as f:\n",
    "    for item in swapped_data:\n",
    "        f.write(json.dumps(item, ensure_ascii=False) + \"\\n\")\n",
    "\n",
    "print(f\"✅ 스왑된 500개 샘플 저장 완료: {swapped_only_path}\")\n",
    "\n",
    "# 스왑되지 않은 항목 저장 (8000개)\n",
    "not_swapped_path = \"/content/drive/MyDrive/ultrafeedback/ultrafeedback_not_swapped_9500.jsonl\"\n",
    "not_swapped_indices = set(range(len(data))) - swap_indices\n",
    "not_swapped_data = [data[idx] for idx in not_swapped_indices]\n",
    "\n",
    "with open(not_swapped_path, \"w\", encoding=\"utf-8\") as f:\n",
    "    for item in not_swapped_data:\n",
    "        f.write(json.dumps(item, ensure_ascii=False) + \"\\n\")\n",
    "\n",
    "print(f\"✅ 스왑되지 않은 9500개 샘플 저장 완료: {not_swapped_path}\")"
   ]
  },
  {
   "cell_type": "code",
   "execution_count": 5,
   "metadata": {
    "colab": {
     "base_uri": "https://localhost:8080/",
     "height": 17
    },
    "executionInfo": {
     "elapsed": 278,
     "status": "ok",
     "timestamp": 1748584077562,
     "user": {
      "displayName": "이서연",
      "userId": "12163803244287082530"
     },
     "user_tz": -540
    },
    "id": "ZgvCI993uzzv",
    "outputId": "4cb48625-08f7-4de0-f485-9ad93c14c3d0"
   },
   "outputs": [
    {
     "data": {
      "application/javascript": "\n    async function download(id, filename, size) {\n      if (!google.colab.kernel.accessAllowed) {\n        return;\n      }\n      const div = document.createElement('div');\n      const label = document.createElement('label');\n      label.textContent = `Downloading \"${filename}\": `;\n      div.appendChild(label);\n      const progress = document.createElement('progress');\n      progress.max = size;\n      div.appendChild(progress);\n      document.body.appendChild(div);\n\n      const buffers = [];\n      let downloaded = 0;\n\n      const channel = await google.colab.kernel.comms.open(id);\n      // Send a message to notify the kernel that we're ready.\n      channel.send({})\n\n      for await (const message of channel.messages) {\n        // Send a message to notify the kernel that we're ready.\n        channel.send({})\n        if (message.buffers) {\n          for (const buffer of message.buffers) {\n            buffers.push(buffer);\n            downloaded += buffer.byteLength;\n            progress.value = downloaded;\n          }\n        }\n      }\n      const blob = new Blob(buffers, {type: 'application/binary'});\n      const a = document.createElement('a');\n      a.href = window.URL.createObjectURL(blob);\n      a.download = filename;\n      div.appendChild(a);\n      a.click();\n      div.remove();\n    }\n  ",
      "text/plain": [
       "<IPython.core.display.Javascript object>"
      ]
     },
     "metadata": {},
     "output_type": "display_data"
    },
    {
     "data": {
      "application/javascript": "download(\"download_894ec81e-68e3-4702-96e0-a7d34ba5d9ac\", \"swapped_only_500.jsonl\", 1565551)",
      "text/plain": [
       "<IPython.core.display.Javascript object>"
      ]
     },
     "metadata": {},
     "output_type": "display_data"
    },
    {
     "data": {
      "application/javascript": "\n    async function download(id, filename, size) {\n      if (!google.colab.kernel.accessAllowed) {\n        return;\n      }\n      const div = document.createElement('div');\n      const label = document.createElement('label');\n      label.textContent = `Downloading \"${filename}\": `;\n      div.appendChild(label);\n      const progress = document.createElement('progress');\n      progress.max = size;\n      div.appendChild(progress);\n      document.body.appendChild(div);\n\n      const buffers = [];\n      let downloaded = 0;\n\n      const channel = await google.colab.kernel.comms.open(id);\n      // Send a message to notify the kernel that we're ready.\n      channel.send({})\n\n      for await (const message of channel.messages) {\n        // Send a message to notify the kernel that we're ready.\n        channel.send({})\n        if (message.buffers) {\n          for (const buffer of message.buffers) {\n            buffers.push(buffer);\n            downloaded += buffer.byteLength;\n            progress.value = downloaded;\n          }\n        }\n      }\n      const blob = new Blob(buffers, {type: 'application/binary'});\n      const a = document.createElement('a');\n      a.href = window.URL.createObjectURL(blob);\n      a.download = filename;\n      div.appendChild(a);\n      a.click();\n      div.remove();\n    }\n  ",
      "text/plain": [
       "<IPython.core.display.Javascript object>"
      ]
     },
     "metadata": {},
     "output_type": "display_data"
    },
    {
     "data": {
      "application/javascript": "download(\"download_e60a57c6-2b2d-4fb0-a728-e522debd553a\", \"not_swapped_9500.jsonl\", 29229205)",
      "text/plain": [
       "<IPython.core.display.Javascript object>"
      ]
     },
     "metadata": {},
     "output_type": "display_data"
    }
   ],
   "source": [
    "from google.colab import files\n",
    "\n",
    "# 파일 경로\n",
    "swapped_only_path = \"/content/drive/MyDrive/ultrafeedback/ultrafeedback_swapped_only_500.jsonl\"\n",
    "not_swapped_path = \"/content/drive/MyDrive/ultrafeedback/ultrafeedback_not_swapped_9500.jsonl\"\n",
    "\n",
    "# 먼저 Colab 작업 디렉토리로 복사 (Google Drive에서 바로 다운로드는 불안정할 수 있음)\n",
    "!cp \"{swapped_only_path}\" /content/swapped_only_500.jsonl\n",
    "!cp \"{not_swapped_path}\" /content/not_swapped_9500.jsonl\n",
    "\n",
    "# 다운로드\n",
    "files.download(\"/content/swapped_only_500.jsonl\")\n",
    "files.download(\"/content/not_swapped_9500.jsonl\")"
   ]
  },
  {
   "cell_type": "code",
   "execution_count": 6,
   "metadata": {
    "colab": {
     "base_uri": "https://localhost:8080/"
    },
    "executionInfo": {
     "elapsed": 1016,
     "status": "ok",
     "timestamp": 1748584207139,
     "user": {
      "displayName": "이서연",
      "userId": "12163803244287082530"
     },
     "user_tz": -540
    },
    "id": "NhO4CvpLvLPe",
    "outputId": "25d0a754-fe0a-4cc2-bb96-ee0297a65bc2"
   },
   "outputs": [
    {
     "name": "stdout",
     "output_type": "stream",
     "text": [
      "🔄 1000개 스왑 완료! 저장 경로: /content/drive/MyDrive/ultrafeedback/ultrafeedback_sample_swapped_1000.jsonl\n"
     ]
    }
   ],
   "source": [
    "import random\n",
    "import json\n",
    "\n",
    "# 1. 기존 샘플링된 10,000개 로드 (이미 메모리에 있다면 이 단계 생략 가능)\n",
    "input_path = \"/content/drive/MyDrive/ultrafeedback/ultrafeedback_sample_10000.jsonl\"\n",
    "output_path = \"/content/drive/MyDrive/ultrafeedback/ultrafeedback_sample_swapped_1000.jsonl\"\n",
    "\n",
    "with open(input_path, \"r\", encoding=\"utf-8\") as f:\n",
    "    data = [json.loads(line) for line in f]\n",
    "\n",
    "# 2. 2000개 무작위 선택 후 chosen <-> rejected 스왑\n",
    "swap_indices = set(random.sample(range(len(data)), 1000))\n",
    "\n",
    "for idx in swap_indices:\n",
    "    data[idx][\"chosen\"], data[idx][\"rejected\"] = data[idx][\"rejected\"], data[idx][\"chosen\"]\n",
    "\n",
    "# 3. 저장\n",
    "with open(output_path, \"w\", encoding=\"utf-8\") as f:\n",
    "    for item in data:\n",
    "        f.write(json.dumps(item, ensure_ascii=False) + \"\\n\")\n",
    "\n",
    "print(f\"🔄 1000개 스왑 완료! 저장 경로: {output_path}\")"
   ]
  },
  {
   "cell_type": "code",
   "execution_count": 7,
   "metadata": {
    "colab": {
     "base_uri": "https://localhost:8080/",
     "height": 17
    },
    "executionInfo": {
     "elapsed": 30,
     "status": "ok",
     "timestamp": 1748584225882,
     "user": {
      "displayName": "이서연",
      "userId": "12163803244287082530"
     },
     "user_tz": -540
    },
    "id": "j8ySuokbvcsQ",
    "outputId": "12876590-1442-418b-90b6-422b93123dcd"
   },
   "outputs": [
    {
     "data": {
      "application/javascript": "\n    async function download(id, filename, size) {\n      if (!google.colab.kernel.accessAllowed) {\n        return;\n      }\n      const div = document.createElement('div');\n      const label = document.createElement('label');\n      label.textContent = `Downloading \"${filename}\": `;\n      div.appendChild(label);\n      const progress = document.createElement('progress');\n      progress.max = size;\n      div.appendChild(progress);\n      document.body.appendChild(div);\n\n      const buffers = [];\n      let downloaded = 0;\n\n      const channel = await google.colab.kernel.comms.open(id);\n      // Send a message to notify the kernel that we're ready.\n      channel.send({})\n\n      for await (const message of channel.messages) {\n        // Send a message to notify the kernel that we're ready.\n        channel.send({})\n        if (message.buffers) {\n          for (const buffer of message.buffers) {\n            buffers.push(buffer);\n            downloaded += buffer.byteLength;\n            progress.value = downloaded;\n          }\n        }\n      }\n      const blob = new Blob(buffers, {type: 'application/binary'});\n      const a = document.createElement('a');\n      a.href = window.URL.createObjectURL(blob);\n      a.download = filename;\n      div.appendChild(a);\n      a.click();\n      div.remove();\n    }\n  ",
      "text/plain": [
       "<IPython.core.display.Javascript object>"
      ]
     },
     "metadata": {},
     "output_type": "display_data"
    },
    {
     "data": {
      "application/javascript": "download(\"download_8cda2b96-1ae8-4523-bb49-262d4164016e\", \"ultrafeedback_sample_swapped_1000.jsonl\", 30794756)",
      "text/plain": [
       "<IPython.core.display.Javascript object>"
      ]
     },
     "metadata": {},
     "output_type": "display_data"
    }
   ],
   "source": [
    "from google.colab import files\n",
    "\n",
    "output_path = \"/content/drive/MyDrive/ultrafeedback/ultrafeedback_sample_swapped_1000.jsonl\"\n",
    "\n",
    "# 다운로드 요청\n",
    "files.download(output_path)"
   ]
  },
  {
   "cell_type": "code",
   "execution_count": 8,
   "metadata": {
    "colab": {
     "base_uri": "https://localhost:8080/"
    },
    "executionInfo": {
     "elapsed": 967,
     "status": "ok",
     "timestamp": 1748584286757,
     "user": {
      "displayName": "이서연",
      "userId": "12163803244287082530"
     },
     "user_tz": -540
    },
    "id": "G2PXXCZ-vgI4",
    "outputId": "47f55a19-6a3a-4004-ce43-b9cc25dda06f"
   },
   "outputs": [
    {
     "name": "stdout",
     "output_type": "stream",
     "text": [
      "✅ 스왑된 1000개 샘플 저장 완료: /content/drive/MyDrive/ultrafeedback/ultrafeedback_swapped_only_1000.jsonl\n",
      "✅ 스왑되지 않은 9000개 샘플 저장 완료: /content/drive/MyDrive/ultrafeedback/ultrafeedback_not_swapped_9000.jsonl\n"
     ]
    }
   ],
   "source": [
    "# 스왑된 항목 저장 (2000개)\n",
    "swapped_only_path = \"/content/drive/MyDrive/ultrafeedback/ultrafeedback_swapped_only_1000.jsonl\"\n",
    "swapped_data = [data[idx] for idx in swap_indices]\n",
    "\n",
    "with open(swapped_only_path, \"w\", encoding=\"utf-8\") as f:\n",
    "    for item in swapped_data:\n",
    "        f.write(json.dumps(item, ensure_ascii=False) + \"\\n\")\n",
    "\n",
    "print(f\"✅ 스왑된 1000개 샘플 저장 완료: {swapped_only_path}\")\n",
    "\n",
    "# 스왑되지 않은 항목 저장 (8000개)\n",
    "not_swapped_path = \"/content/drive/MyDrive/ultrafeedback/ultrafeedback_not_swapped_9000.jsonl\"\n",
    "not_swapped_indices = set(range(len(data))) - swap_indices\n",
    "not_swapped_data = [data[idx] for idx in not_swapped_indices]\n",
    "\n",
    "with open(not_swapped_path, \"w\", encoding=\"utf-8\") as f:\n",
    "    for item in not_swapped_data:\n",
    "        f.write(json.dumps(item, ensure_ascii=False) + \"\\n\")\n",
    "\n",
    "print(f\"✅ 스왑되지 않은 9000개 샘플 저장 완료: {not_swapped_path}\")"
   ]
  },
  {
   "cell_type": "code",
   "execution_count": 9,
   "metadata": {
    "colab": {
     "base_uri": "https://localhost:8080/",
     "height": 17
    },
    "executionInfo": {
     "elapsed": 242,
     "status": "ok",
     "timestamp": 1748584318224,
     "user": {
      "displayName": "이서연",
      "userId": "12163803244287082530"
     },
     "user_tz": -540
    },
    "id": "zD38h7NsvvdM",
    "outputId": "2b8468f0-b3c3-4ac2-8fe6-2f1d81a9382b"
   },
   "outputs": [
    {
     "data": {
      "application/javascript": "\n    async function download(id, filename, size) {\n      if (!google.colab.kernel.accessAllowed) {\n        return;\n      }\n      const div = document.createElement('div');\n      const label = document.createElement('label');\n      label.textContent = `Downloading \"${filename}\": `;\n      div.appendChild(label);\n      const progress = document.createElement('progress');\n      progress.max = size;\n      div.appendChild(progress);\n      document.body.appendChild(div);\n\n      const buffers = [];\n      let downloaded = 0;\n\n      const channel = await google.colab.kernel.comms.open(id);\n      // Send a message to notify the kernel that we're ready.\n      channel.send({})\n\n      for await (const message of channel.messages) {\n        // Send a message to notify the kernel that we're ready.\n        channel.send({})\n        if (message.buffers) {\n          for (const buffer of message.buffers) {\n            buffers.push(buffer);\n            downloaded += buffer.byteLength;\n            progress.value = downloaded;\n          }\n        }\n      }\n      const blob = new Blob(buffers, {type: 'application/binary'});\n      const a = document.createElement('a');\n      a.href = window.URL.createObjectURL(blob);\n      a.download = filename;\n      div.appendChild(a);\n      a.click();\n      div.remove();\n    }\n  ",
      "text/plain": [
       "<IPython.core.display.Javascript object>"
      ]
     },
     "metadata": {},
     "output_type": "display_data"
    },
    {
     "data": {
      "application/javascript": "download(\"download_87c2d3b7-c146-4e7a-b889-cdc8e9b4788d\", \"swapped_only_1000.jsonl\", 2959015)",
      "text/plain": [
       "<IPython.core.display.Javascript object>"
      ]
     },
     "metadata": {},
     "output_type": "display_data"
    },
    {
     "data": {
      "application/javascript": "\n    async function download(id, filename, size) {\n      if (!google.colab.kernel.accessAllowed) {\n        return;\n      }\n      const div = document.createElement('div');\n      const label = document.createElement('label');\n      label.textContent = `Downloading \"${filename}\": `;\n      div.appendChild(label);\n      const progress = document.createElement('progress');\n      progress.max = size;\n      div.appendChild(progress);\n      document.body.appendChild(div);\n\n      const buffers = [];\n      let downloaded = 0;\n\n      const channel = await google.colab.kernel.comms.open(id);\n      // Send a message to notify the kernel that we're ready.\n      channel.send({})\n\n      for await (const message of channel.messages) {\n        // Send a message to notify the kernel that we're ready.\n        channel.send({})\n        if (message.buffers) {\n          for (const buffer of message.buffers) {\n            buffers.push(buffer);\n            downloaded += buffer.byteLength;\n            progress.value = downloaded;\n          }\n        }\n      }\n      const blob = new Blob(buffers, {type: 'application/binary'});\n      const a = document.createElement('a');\n      a.href = window.URL.createObjectURL(blob);\n      a.download = filename;\n      div.appendChild(a);\n      a.click();\n      div.remove();\n    }\n  ",
      "text/plain": [
       "<IPython.core.display.Javascript object>"
      ]
     },
     "metadata": {},
     "output_type": "display_data"
    },
    {
     "data": {
      "application/javascript": "download(\"download_61eaeca7-b90d-48b3-a745-af71f9d81983\", \"not_swapped_9000.jsonl\", 27835741)",
      "text/plain": [
       "<IPython.core.display.Javascript object>"
      ]
     },
     "metadata": {},
     "output_type": "display_data"
    }
   ],
   "source": [
    "from google.colab import files\n",
    "\n",
    "# 파일 경로\n",
    "swapped_only_path = \"/content/drive/MyDrive/ultrafeedback/ultrafeedback_swapped_only_1000.jsonl\"\n",
    "not_swapped_path = \"/content/drive/MyDrive/ultrafeedback/ultrafeedback_not_swapped_9000.jsonl\"\n",
    "\n",
    "# 먼저 Colab 작업 디렉토리로 복사 (Google Drive에서 바로 다운로드는 불안정할 수 있음)\n",
    "!cp \"{swapped_only_path}\" /content/swapped_only_1000.jsonl\n",
    "!cp \"{not_swapped_path}\" /content/not_swapped_9000.jsonl\n",
    "\n",
    "# 다운로드\n",
    "files.download(\"/content/swapped_only_1000.jsonl\")\n",
    "files.download(\"/content/not_swapped_9000.jsonl\")"
   ]
  },
  {
   "cell_type": "code",
   "execution_count": 10,
   "metadata": {
    "colab": {
     "base_uri": "https://localhost:8080/"
    },
    "executionInfo": {
     "elapsed": 832,
     "status": "ok",
     "timestamp": 1748584391903,
     "user": {
      "displayName": "이서연",
      "userId": "12163803244287082530"
     },
     "user_tz": -540
    },
    "id": "-rHr_7ROv_JE",
    "outputId": "2a1f68c3-eef3-444f-c467-9476d3b96ed2"
   },
   "outputs": [
    {
     "name": "stdout",
     "output_type": "stream",
     "text": [
      "🔄 3000개 스왑 완료! 저장 경로: /content/drive/MyDrive/ultrafeedback/ultrafeedback_sample_swapped_3000.jsonl\n"
     ]
    }
   ],
   "source": [
    "import random\n",
    "import json\n",
    "\n",
    "# 1. 기존 샘플링된 10,000개 로드 (이미 메모리에 있다면 이 단계 생략 가능)\n",
    "input_path = \"/content/drive/MyDrive/ultrafeedback/ultrafeedback_sample_10000.jsonl\"\n",
    "output_path = \"/content/drive/MyDrive/ultrafeedback/ultrafeedback_sample_swapped_3000.jsonl\"\n",
    "\n",
    "with open(input_path, \"r\", encoding=\"utf-8\") as f:\n",
    "    data = [json.loads(line) for line in f]\n",
    "\n",
    "# 2. 2000개 무작위 선택 후 chosen <-> rejected 스왑\n",
    "swap_indices = set(random.sample(range(len(data)), 3000))\n",
    "\n",
    "for idx in swap_indices:\n",
    "    data[idx][\"chosen\"], data[idx][\"rejected\"] = data[idx][\"rejected\"], data[idx][\"chosen\"]\n",
    "\n",
    "# 3. 저장\n",
    "with open(output_path, \"w\", encoding=\"utf-8\") as f:\n",
    "    for item in data:\n",
    "        f.write(json.dumps(item, ensure_ascii=False) + \"\\n\")\n",
    "\n",
    "print(f\"🔄 3000개 스왑 완료! 저장 경로: {output_path}\")"
   ]
  },
  {
   "cell_type": "code",
   "execution_count": 11,
   "metadata": {
    "colab": {
     "base_uri": "https://localhost:8080/",
     "height": 17
    },
    "executionInfo": {
     "elapsed": 11,
     "status": "ok",
     "timestamp": 1748584404110,
     "user": {
      "displayName": "이서연",
      "userId": "12163803244287082530"
     },
     "user_tz": -540
    },
    "id": "8XmRSosjwIfc",
    "outputId": "90c4ad7d-81bc-4293-8769-7b67674481e2"
   },
   "outputs": [
    {
     "data": {
      "application/javascript": "\n    async function download(id, filename, size) {\n      if (!google.colab.kernel.accessAllowed) {\n        return;\n      }\n      const div = document.createElement('div');\n      const label = document.createElement('label');\n      label.textContent = `Downloading \"${filename}\": `;\n      div.appendChild(label);\n      const progress = document.createElement('progress');\n      progress.max = size;\n      div.appendChild(progress);\n      document.body.appendChild(div);\n\n      const buffers = [];\n      let downloaded = 0;\n\n      const channel = await google.colab.kernel.comms.open(id);\n      // Send a message to notify the kernel that we're ready.\n      channel.send({})\n\n      for await (const message of channel.messages) {\n        // Send a message to notify the kernel that we're ready.\n        channel.send({})\n        if (message.buffers) {\n          for (const buffer of message.buffers) {\n            buffers.push(buffer);\n            downloaded += buffer.byteLength;\n            progress.value = downloaded;\n          }\n        }\n      }\n      const blob = new Blob(buffers, {type: 'application/binary'});\n      const a = document.createElement('a');\n      a.href = window.URL.createObjectURL(blob);\n      a.download = filename;\n      div.appendChild(a);\n      a.click();\n      div.remove();\n    }\n  ",
      "text/plain": [
       "<IPython.core.display.Javascript object>"
      ]
     },
     "metadata": {},
     "output_type": "display_data"
    },
    {
     "data": {
      "application/javascript": "download(\"download_95b6d76e-ce53-4f25-a635-231e43e8b9b0\", \"ultrafeedback_sample_swapped_3000.jsonl\", 30794756)",
      "text/plain": [
       "<IPython.core.display.Javascript object>"
      ]
     },
     "metadata": {},
     "output_type": "display_data"
    }
   ],
   "source": [
    "from google.colab import files\n",
    "\n",
    "output_path = \"/content/drive/MyDrive/ultrafeedback/ultrafeedback_sample_swapped_3000.jsonl\"\n",
    "\n",
    "# 다운로드 요청\n",
    "files.download(output_path)"
   ]
  },
  {
   "cell_type": "code",
   "execution_count": 12,
   "metadata": {
    "colab": {
     "base_uri": "https://localhost:8080/"
    },
    "executionInfo": {
     "elapsed": 688,
     "status": "ok",
     "timestamp": 1748584432528,
     "user": {
      "displayName": "이서연",
      "userId": "12163803244287082530"
     },
     "user_tz": -540
    },
    "id": "eeKBfDNzwLuR",
    "outputId": "dc5bf2d6-54d1-46ed-cb3b-2ec482ebfc13"
   },
   "outputs": [
    {
     "name": "stdout",
     "output_type": "stream",
     "text": [
      "✅ 스왑된 3000개 샘플 저장 완료: /content/drive/MyDrive/ultrafeedback/ultrafeedback_swapped_only_3000.jsonl\n",
      "✅ 스왑되지 않은 7000개 샘플 저장 완료: /content/drive/MyDrive/ultrafeedback/ultrafeedback_not_swapped_7000.jsonl\n"
     ]
    }
   ],
   "source": [
    "# 스왑된 항목 저장 (2000개)\n",
    "swapped_only_path = \"/content/drive/MyDrive/ultrafeedback/ultrafeedback_swapped_only_3000.jsonl\"\n",
    "swapped_data = [data[idx] for idx in swap_indices]\n",
    "\n",
    "with open(swapped_only_path, \"w\", encoding=\"utf-8\") as f:\n",
    "    for item in swapped_data:\n",
    "        f.write(json.dumps(item, ensure_ascii=False) + \"\\n\")\n",
    "\n",
    "print(f\"✅ 스왑된 3000개 샘플 저장 완료: {swapped_only_path}\")\n",
    "\n",
    "# 스왑되지 않은 항목 저장 (8000개)\n",
    "not_swapped_path = \"/content/drive/MyDrive/ultrafeedback/ultrafeedback_not_swapped_7000.jsonl\"\n",
    "not_swapped_indices = set(range(len(data))) - swap_indices\n",
    "not_swapped_data = [data[idx] for idx in not_swapped_indices]\n",
    "\n",
    "with open(not_swapped_path, \"w\", encoding=\"utf-8\") as f:\n",
    "    for item in not_swapped_data:\n",
    "        f.write(json.dumps(item, ensure_ascii=False) + \"\\n\")\n",
    "\n",
    "print(f\"✅ 스왑되지 않은 7000개 샘플 저장 완료: {not_swapped_path}\")"
   ]
  },
  {
   "cell_type": "code",
   "execution_count": 13,
   "metadata": {
    "colab": {
     "base_uri": "https://localhost:8080/",
     "height": 17
    },
    "executionInfo": {
     "elapsed": 327,
     "status": "ok",
     "timestamp": 1748584457591,
     "user": {
      "displayName": "이서연",
      "userId": "12163803244287082530"
     },
     "user_tz": -540
    },
    "id": "uKhad9WTwSTh",
    "outputId": "9ccd3384-0374-4d89-9842-75f2ed3d60f4"
   },
   "outputs": [
    {
     "data": {
      "application/javascript": "\n    async function download(id, filename, size) {\n      if (!google.colab.kernel.accessAllowed) {\n        return;\n      }\n      const div = document.createElement('div');\n      const label = document.createElement('label');\n      label.textContent = `Downloading \"${filename}\": `;\n      div.appendChild(label);\n      const progress = document.createElement('progress');\n      progress.max = size;\n      div.appendChild(progress);\n      document.body.appendChild(div);\n\n      const buffers = [];\n      let downloaded = 0;\n\n      const channel = await google.colab.kernel.comms.open(id);\n      // Send a message to notify the kernel that we're ready.\n      channel.send({})\n\n      for await (const message of channel.messages) {\n        // Send a message to notify the kernel that we're ready.\n        channel.send({})\n        if (message.buffers) {\n          for (const buffer of message.buffers) {\n            buffers.push(buffer);\n            downloaded += buffer.byteLength;\n            progress.value = downloaded;\n          }\n        }\n      }\n      const blob = new Blob(buffers, {type: 'application/binary'});\n      const a = document.createElement('a');\n      a.href = window.URL.createObjectURL(blob);\n      a.download = filename;\n      div.appendChild(a);\n      a.click();\n      div.remove();\n    }\n  ",
      "text/plain": [
       "<IPython.core.display.Javascript object>"
      ]
     },
     "metadata": {},
     "output_type": "display_data"
    },
    {
     "data": {
      "application/javascript": "download(\"download_8af7abbe-d04e-4764-ada6-46fbe1fe279f\", \"swapped_only_3000.jsonl\", 9317198)",
      "text/plain": [
       "<IPython.core.display.Javascript object>"
      ]
     },
     "metadata": {},
     "output_type": "display_data"
    },
    {
     "data": {
      "application/javascript": "\n    async function download(id, filename, size) {\n      if (!google.colab.kernel.accessAllowed) {\n        return;\n      }\n      const div = document.createElement('div');\n      const label = document.createElement('label');\n      label.textContent = `Downloading \"${filename}\": `;\n      div.appendChild(label);\n      const progress = document.createElement('progress');\n      progress.max = size;\n      div.appendChild(progress);\n      document.body.appendChild(div);\n\n      const buffers = [];\n      let downloaded = 0;\n\n      const channel = await google.colab.kernel.comms.open(id);\n      // Send a message to notify the kernel that we're ready.\n      channel.send({})\n\n      for await (const message of channel.messages) {\n        // Send a message to notify the kernel that we're ready.\n        channel.send({})\n        if (message.buffers) {\n          for (const buffer of message.buffers) {\n            buffers.push(buffer);\n            downloaded += buffer.byteLength;\n            progress.value = downloaded;\n          }\n        }\n      }\n      const blob = new Blob(buffers, {type: 'application/binary'});\n      const a = document.createElement('a');\n      a.href = window.URL.createObjectURL(blob);\n      a.download = filename;\n      div.appendChild(a);\n      a.click();\n      div.remove();\n    }\n  ",
      "text/plain": [
       "<IPython.core.display.Javascript object>"
      ]
     },
     "metadata": {},
     "output_type": "display_data"
    },
    {
     "data": {
      "application/javascript": "download(\"download_3ccfbc46-e41d-4795-b679-a6450c799c74\", \"not_swapped_7000.jsonl\", 21477558)",
      "text/plain": [
       "<IPython.core.display.Javascript object>"
      ]
     },
     "metadata": {},
     "output_type": "display_data"
    }
   ],
   "source": [
    "from google.colab import files\n",
    "\n",
    "# 파일 경로\n",
    "swapped_only_path = \"/content/drive/MyDrive/ultrafeedback/ultrafeedback_swapped_only_3000.jsonl\"\n",
    "not_swapped_path = \"/content/drive/MyDrive/ultrafeedback/ultrafeedback_not_swapped_7000.jsonl\"\n",
    "\n",
    "# 먼저 Colab 작업 디렉토리로 복사 (Google Drive에서 바로 다운로드는 불안정할 수 있음)\n",
    "!cp \"{swapped_only_path}\" /content/swapped_only_3000.jsonl\n",
    "!cp \"{not_swapped_path}\" /content/not_swapped_7000.jsonl\n",
    "\n",
    "# 다운로드\n",
    "files.download(\"/content/swapped_only_3000.jsonl\")\n",
    "files.download(\"/content/not_swapped_7000.jsonl\")"
   ]
  }
 ],
 "metadata": {
  "colab": {
   "authorship_tag": "ABX9TyMeVEebHZBlppQMGoPZrbUJ",
   "provenance": []
  },
  "kernelspec": {
   "display_name": "carto",
   "language": "python",
   "name": "python3"
  },
  "language_info": {
   "codemirror_mode": {
    "name": "ipython",
    "version": 3
   },
   "file_extension": ".py",
   "mimetype": "text/x-python",
   "name": "python",
   "nbconvert_exporter": "python",
   "pygments_lexer": "ipython3",
   "version": "3.9.21"
  }
 },
 "nbformat": 4,
 "nbformat_minor": 0
}
